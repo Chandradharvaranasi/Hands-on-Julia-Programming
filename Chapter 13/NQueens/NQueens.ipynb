{
 "cells": [
  {
   "cell_type": "markdown",
   "metadata": {},
   "source": [
    "## N-Queens with UI\n",
    "This notebook contains the sample source code explained in the book Hands-On Julia Programming, Sambit Kumar Dash, 2021, bpb Publications. All Rights Reserved."
   ]
  },
  {
   "cell_type": "code",
   "execution_count": 1,
   "metadata": {},
   "outputs": [
    {
     "name": "stderr",
     "output_type": "stream",
     "text": [
      "\u001b[32m\u001b[1m    Updating\u001b[22m\u001b[39m registry at `C:\\Users\\Chandradhar\\.julia\\registries\\General`\n",
      "\u001b[32m\u001b[1m    Updating\u001b[22m\u001b[39m git-repo `https://github.com/JuliaRegistries/General.git`\n",
      "\u001b[32m\u001b[1m   Resolving\u001b[22m\u001b[39m package versions...\n",
      "\u001b[32m\u001b[1m  No Changes\u001b[22m\u001b[39m to `D:\\MBA\\python and julia\\Julia\\Hands-on-Julia-Programming\\Chapter 13\\NQueens\\Project.toml`\n",
      "\u001b[32m\u001b[1m  No Changes\u001b[22m\u001b[39m to `D:\\MBA\\python and julia\\Julia\\Hands-on-Julia-Programming\\Chapter 13\\NQueens\\Manifest.toml`\n",
      "\u001b[32m\u001b[1m  Activating\u001b[22m\u001b[39m environment at `D:\\MBA\\python and julia\\Julia\\Hands-on-Julia-Programming\\Chapter 13\\NQueens\\Project.toml`\n"
     ]
    }
   ],
   "source": [
    "using Pkg\n",
    "import Pkg; Pkg.add(\"Conda\")\n",
    "pkg\"activate .\"\n",
    "pkg\"instantiate\""
   ]
  },
  {
   "cell_type": "code",
   "execution_count": 2,
   "metadata": {},
   "outputs": [
    {
     "data": {
      "text/plain": [
       "attacks (generic function with 1 method)"
      ]
     },
     "execution_count": 2,
     "metadata": {},
     "output_type": "execute_result"
    }
   ],
   "source": [
    "attacks(x1, y1, x2, y2) = (x1 == x2 || y1 == y2 || x1 - y1 == x2 - y2 || x1 + y1 == x2 + y2)"
   ]
  },
  {
   "cell_type": "code",
   "execution_count": 3,
   "metadata": {},
   "outputs": [
    {
     "data": {
      "application/vnd.webio.node+json": {
       "children": [],
       "instanceArgs": {
        "namespace": "html",
        "tag": "div"
       },
       "nodeType": "DOM",
       "props": {},
       "type": "node"
      },
      "text/html": [
       "<div style=\"padding: 1em; background-color: #f8d6da; border: 1px solid #f5c6cb; font-weight: bold;\">\n",
       "<p>The WebIO Jupyter extension was not detected. See the\n",
       "<a href=\"https://juliagizmos.github.io/WebIO.jl/latest/providers/ijulia/\" target=\"_blank\">\n",
       "    WebIO Jupyter integration documentation\n",
       "</a>\n",
       "for more information.\n",
       "</div>\n"
      ],
      "text/plain": [
       "WebIO._IJuliaInit()"
      ]
     },
     "metadata": {
      "application/vnd.webio.node+json": {
       "kernelId": "ffcd05b4-6f14-41b6-a4b1-1d0595ddfde4"
      }
     },
     "output_type": "display_data"
    }
   ],
   "source": [
    "using WebIO"
   ]
  },
  {
   "cell_type": "code",
   "execution_count": 4,
   "metadata": {},
   "outputs": [
    {
     "data": {
      "application/vnd.webio.node+json": {
       "children": [
        "Hello, Jupyter"
       ],
       "instanceArgs": {
        "namespace": "html",
        "tag": "p"
       },
       "nodeType": "DOM",
       "props": {},
       "type": "node"
      },
      "text/html": [
       "<div\n",
       "    class=\"webio-mountpoint\"\n",
       "    data-webio-mountpoint=\"4187342269011218577\"\n",
       ">\n",
       "    <script>\n",
       "    (function(){\n",
       "    // Some integrations (namely, IJulia/Jupyter) use an alternate render pathway than\n",
       "    // just putting the html on the page. If WebIO isn't defined, then it's pretty likely\n",
       "    // that we're in one of those situations and the integration just isn't installed\n",
       "    // correctly.\n",
       "    if (typeof window.WebIO === \"undefined\") {\n",
       "        document\n",
       "            .querySelector('[data-webio-mountpoint=\"4187342269011218577\"]')\n",
       "            .innerHTML = (\n",
       "                '<div style=\"padding: 1em; background-color: #f8d6da; border: 1px solid #f5c6cb; font-weight: bold;\">' +\n",
       "                '<p><strong>WebIO not detected.</strong></p>' +\n",
       "                '<p>Please read ' +\n",
       "                '<a href=\"https://juliagizmos.github.io/WebIO.jl/latest/troubleshooting/not-detected/\" target=\"_blank\">the troubleshooting guide</a> ' +\n",
       "                'for more information on how to resolve this issue.</p>' +\n",
       "                '<p><a href=\"https://juliagizmos.github.io/WebIO.jl/latest/troubleshooting/not-detected/\" target=\"_blank\">https://juliagizmos.github.io/WebIO.jl/latest/troubleshooting/not-detected/</a></p>' +\n",
       "                '</div>'\n",
       "            );\n",
       "        return;\n",
       "    }\n",
       "    WebIO.mount(\n",
       "        document.querySelector('[data-webio-mountpoint=\"4187342269011218577\"]'),\n",
       "        {\"props\":{},\"nodeType\":\"DOM\",\"type\":\"node\",\"instanceArgs\":{\"namespace\":\"html\",\"tag\":\"p\"},\"children\":[\"Hello, Jupyter\"]},\n",
       "        window,\n",
       "    );\n",
       "    })()\n",
       "    </script>\n",
       "</div>\n"
      ],
      "text/plain": [
       "(p\n",
       "  \"Hello, Jupyter\")"
      ]
     },
     "execution_count": 4,
     "metadata": {
      "application/vnd.webio.node+json": {
       "kernelId": "ffcd05b4-6f14-41b6-a4b1-1d0595ddfde4"
      }
     },
     "output_type": "execute_result"
    }
   ],
   "source": [
    "node(:p, \"Hello, Jupyter\")"
   ]
  },
  {
   "cell_type": "code",
   "execution_count": 5,
   "metadata": {},
   "outputs": [
    {
     "ename": "LoadError",
     "evalue": "The WebIO Jupyter extension must be installed using Python or Conda. See https://juliagizmos.github.io/WebIO.jl/latest/providers/ijulia/ for more information.",
     "output_type": "error",
     "traceback": [
      "The WebIO Jupyter extension must be installed using Python or Conda. See https://juliagizmos.github.io/WebIO.jl/latest/providers/ijulia/ for more information.",
      "",
      "Stacktrace:",
      " [1] error(s::String)",
      "   @ Base .\\error.jl:33",
      " [2] _error()",
      "   @ WebIO C:\\Users\\Chandradhar\\.julia\\packages\\WebIO\\4JqEH\\deps\\jupyter.jl:1",
      " [3] install_jupyter_nbextension(; kwargs::Base.Iterators.Pairs{Union{}, Union{}, Tuple{}, NamedTuple{(), Tuple{}}})",
      "   @ WebIO C:\\Users\\Chandradhar\\.julia\\packages\\WebIO\\4JqEH\\deps\\jupyter.jl:10",
      " [4] install_jupyter_nbextension()",
      "   @ WebIO C:\\Users\\Chandradhar\\.julia\\packages\\WebIO\\4JqEH\\deps\\jupyter.jl:10",
      " [5] top-level scope",
      "   @ In[5]:2",
      " [6] eval",
      "   @ .\\boot.jl:360 [inlined]",
      " [7] include_string(mapexpr::typeof(REPL.softscope), mod::Module, code::String, filename::String)",
      "   @ Base .\\loading.jl:1116"
     ]
    }
   ],
   "source": [
    "# Uncomment and run this code if Jupyter does not render Hello, Jupyter in the previous step.\n",
    " WebIO.install_jupyter_nbextension()"
   ]
  },
  {
   "cell_type": "code",
   "execution_count": 6,
   "metadata": {},
   "outputs": [
    {
     "data": {
      "text/plain": [
       "queens (generic function with 1 method)"
      ]
     },
     "execution_count": 6,
     "metadata": {},
     "output_type": "execute_result"
    }
   ],
   "source": [
    "function queens(N, xs...)\n",
    "    lxs = length(xs)\n",
    "    c = N - lxs\n",
    "    c == 0 && return reverse(xs)\n",
    "    for i=1:N\n",
    "        any(1:lxs) do j\n",
    "            attacks(xs[j], N-j+1, i, c)\n",
    "        end && continue\n",
    "        v = queens(N, xs..., i)\n",
    "        v !== nothing && return v\n",
    "    end\n",
    "    return nothing\n",
    "end"
   ]
  },
  {
   "cell_type": "code",
   "execution_count": 7,
   "metadata": {},
   "outputs": [
    {
     "data": {
      "text/plain": [
       "(4, 2, 7, 3, 6, 8, 5, 1)"
      ]
     },
     "execution_count": 7,
     "metadata": {},
     "output_type": "execute_result"
    }
   ],
   "source": [
    "N, W = 8, 30\n",
    "allqueens = queens(N)"
   ]
  },
  {
   "cell_type": "code",
   "execution_count": 8,
   "metadata": {},
   "outputs": [
    {
     "data": {
      "application/vnd.webio.node+json": {
       "children": [
        {
         "children": [],
         "instanceArgs": {
          "namespace": "html",
          "tag": "canvas"
         },
         "nodeType": "DOM",
         "props": {
          "attributes": {
           "height": "240",
           "width": "240"
          },
          "id": "ChessBoard"
         },
         "type": "node"
        },
        {
         "children": [
          "    function draw_queen(ctx, sx, sy){\n        ctx.fillStyle = \"#C0C0C0\";\n        ctx.fillText(\"Q\", sx+30/5, sy+4*30/5);\n        ctx.fillStyle = \"#000000\";\n    }\n\n    function draw_board(ctx, queens){\n        n = queens.length\n        ctx.fillStyle = \"#FFFFFF\";\n        ctx.fillRect(0, 0, n*30, n*30);\n        ctx.fillStyle = \"#000000\";\n        sx = 0; sy = 0;\n\n        for (i=n-1; i >= 0; i--){\n            for (j=0; j < n; j++){\n                if ((i+j)%2 == 0) \n                    ctx.fillRect(sx, sy, 30, 30);\n                if (j == queens[i] - 1)\n                    draw_queen(ctx, sx, sy)\n                sx += 30;\n            }\n            sy += 30; sx = 0;\n        }\n    }\n\n    var c = document.getElementById(\"ChessBoard\"); \n    var ctx = c.getContext(\"2d\"); \n    ctx.font = \"24px sans-serif\"; \n    draw_board(ctx, [4, 2, 7, 3, 6, 8, 5, 1]);\n"
         ],
         "instanceArgs": {
          "namespace": "html",
          "tag": "script"
         },
         "nodeType": "DOM",
         "props": {},
         "type": "node"
        }
       ],
       "instanceArgs": {
        "namespace": "html",
        "tag": "div"
       },
       "nodeType": "DOM",
       "props": {},
       "type": "node"
      },
      "text/html": [
       "<div\n",
       "    class=\"webio-mountpoint\"\n",
       "    data-webio-mountpoint=\"13990133719183898583\"\n",
       ">\n",
       "    <script>\n",
       "    (function(){\n",
       "    // Some integrations (namely, IJulia/Jupyter) use an alternate render pathway than\n",
       "    // just putting the html on the page. If WebIO isn't defined, then it's pretty likely\n",
       "    // that we're in one of those situations and the integration just isn't installed\n",
       "    // correctly.\n",
       "    if (typeof window.WebIO === \"undefined\") {\n",
       "        document\n",
       "            .querySelector('[data-webio-mountpoint=\"13990133719183898583\"]')\n",
       "            .innerHTML = (\n",
       "                '<div style=\"padding: 1em; background-color: #f8d6da; border: 1px solid #f5c6cb; font-weight: bold;\">' +\n",
       "                '<p><strong>WebIO not detected.</strong></p>' +\n",
       "                '<p>Please read ' +\n",
       "                '<a href=\"https://juliagizmos.github.io/WebIO.jl/latest/troubleshooting/not-detected/\" target=\"_blank\">the troubleshooting guide</a> ' +\n",
       "                'for more information on how to resolve this issue.</p>' +\n",
       "                '<p><a href=\"https://juliagizmos.github.io/WebIO.jl/latest/troubleshooting/not-detected/\" target=\"_blank\">https://juliagizmos.github.io/WebIO.jl/latest/troubleshooting/not-detected/</a></p>' +\n",
       "                '</div>'\n",
       "            );\n",
       "        return;\n",
       "    }\n",
       "    WebIO.mount(\n",
       "        document.querySelector('[data-webio-mountpoint=\"13990133719183898583\"]'),\n",
       "        {\"props\":{},\"nodeType\":\"DOM\",\"type\":\"node\",\"instanceArgs\":{\"namespace\":\"html\",\"tag\":\"div\"},\"children\":[{\"props\":{\"attributes\":{\"height\":\"240\",\"width\":\"240\"},\"id\":\"ChessBoard\"},\"nodeType\":\"DOM\",\"type\":\"node\",\"instanceArgs\":{\"namespace\":\"html\",\"tag\":\"canvas\"},\"children\":[]},{\"props\":{},\"nodeType\":\"DOM\",\"type\":\"node\",\"instanceArgs\":{\"namespace\":\"html\",\"tag\":\"script\"},\"children\":[\"    function draw_queen(ctx, sx, sy){\\n        ctx.fillStyle = \\\"#C0C0C0\\\";\\n        ctx.fillText(\\\"Q\\\", sx+30\\/5, sy+4*30\\/5);\\n        ctx.fillStyle = \\\"#000000\\\";\\n    }\\n\\n    function draw_board(ctx, queens){\\n        n = queens.length\\n        ctx.fillStyle = \\\"#FFFFFF\\\";\\n        ctx.fillRect(0, 0, n*30, n*30);\\n        ctx.fillStyle = \\\"#000000\\\";\\n        sx = 0; sy = 0;\\n\\n        for (i=n-1; i >= 0; i--){\\n            for (j=0; j < n; j++){\\n                if ((i+j)%2 == 0) \\n                    ctx.fillRect(sx, sy, 30, 30);\\n                if (j == queens[i] - 1)\\n                    draw_queen(ctx, sx, sy)\\n                sx += 30;\\n            }\\n            sy += 30; sx = 0;\\n        }\\n    }\\n\\n    var c = document.getElementById(\\\"ChessBoard\\\"); \\n    var ctx = c.getContext(\\\"2d\\\"); \\n    ctx.font = \\\"24px sans-serif\\\"; \\n    draw_board(ctx, [4, 2, 7, 3, 6, 8, 5, 1]);\\n\"]}]},\n",
       "        window,\n",
       "    );\n",
       "    })()\n",
       "    </script>\n",
       "</div>\n"
      ],
      "text/plain": [
       "(div\n",
       "  (canvas { attributes=Dict{SubString{String}, SubString{String}}(\"height\" => \"240\", \"width\" => \"240\") id=\"ChessBoard\" })\n",
       "  (script\n",
       "    \"    function draw_queen(ctx, sx, sy){\\n        ctx.fillStyle = \\\"#C0C0C0\\\";\\n        ctx.fillText(\\\"Q\\\", sx+30/5, sy+4*30/5);\\n        ctx.fillStyle = \\\"#000000\\\";\\n    }\\n\\n    function draw_board(ctx, queens){\\n        n = queens.length\\n        ctx.fillStyle = \\\"#FFFFFF\\\";\\n        ctx.fillRect(0, 0, n*30, n*30);\\n        ctx.fillStyle = \\\"#000000\\\";\\n        sx = 0; sy = 0;\\n\\n        for (i=n-1; i >= 0; i--){\\n            for (j=0; j < n; j++){\\n                if ((i+j)%2 == 0) \\n                    ctx.fillRect(sx, sy, 30, 30);\\n                if (j == queens[i] - 1)\\n                    draw_queen(ctx, sx, sy)\\n                sx += 30;\\n            }\\n            sy += 30; sx = 0;\\n        }\\n    }\\n\\n    var c = document.getElementById(\\\"ChessBoard\\\"); \\n    var ctx = c.getContext(\\\"2d\\\"); \\n    ctx.font = \\\"24px sans-serif\\\"; \\n    draw_board(ctx, [4, 2, 7, 3, 6, 8, 5, 1]);\\n\"))"
      ]
     },
     "execution_count": 8,
     "metadata": {
      "application/vnd.webio.node+json": {
       "kernelId": "ffcd05b4-6f14-41b6-a4b1-1d0595ddfde4"
      }
     },
     "output_type": "execute_result"
    }
   ],
   "source": [
    "dom\"div\"(\n",
    "    dom\"canvas.#ChessBoard[width=$(N*W), height=$(N*W)]\"(),\n",
    "    dom\"script\"(\n",
    "        \"\"\"\n",
    "            function draw_queen(ctx, sx, sy){\n",
    "                ctx.fillStyle = \"#C0C0C0\";\n",
    "                ctx.fillText(\"Q\", sx+$W/5, sy+4*$W/5);\n",
    "                ctx.fillStyle = \"#000000\";\n",
    "            }\n",
    "\n",
    "            function draw_board(ctx, queens){\n",
    "                n = queens.length\n",
    "                ctx.fillStyle = \"#FFFFFF\";\n",
    "                ctx.fillRect(0, 0, n*$W, n*$W);\n",
    "                ctx.fillStyle = \"#000000\";\n",
    "                sx = 0; sy = 0;\n",
    "\n",
    "                for (i=n-1; i >= 0; i--){\n",
    "                    for (j=0; j < n; j++){\n",
    "                        if ((i+j)%2 == 0) \n",
    "                            ctx.fillRect(sx, sy, $W, $W);\n",
    "                        if (j == queens[i] - 1)\n",
    "                            draw_queen(ctx, sx, sy)\n",
    "                        sx += $W;\n",
    "                    }\n",
    "                    sy += $W; sx = 0;\n",
    "                }\n",
    "            }\n",
    "        \n",
    "            var c = document.getElementById(\"ChessBoard\"); \n",
    "            var ctx = c.getContext(\"2d\"); \n",
    "            ctx.font = \"$(4*div(W,5))px sans-serif\"; \n",
    "            draw_board(ctx, $([allqueens...]));\n",
    "        \"\"\"\n",
    "    )\n",
    ")"
   ]
  }
 ],
 "metadata": {
  "@webio": {
   "lastCommId": "1ad4e1b190a74d2eb516e4bfedd86ca8",
   "lastKernelId": "ffcd05b4-6f14-41b6-a4b1-1d0595ddfde4"
  },
  "kernelspec": {
   "display_name": "Julia 1.6.7",
   "language": "julia",
   "name": "julia-1.6"
  },
  "language_info": {
   "file_extension": ".jl",
   "mimetype": "application/julia",
   "name": "julia",
   "version": "1.6.7"
  }
 },
 "nbformat": 4,
 "nbformat_minor": 4
}
